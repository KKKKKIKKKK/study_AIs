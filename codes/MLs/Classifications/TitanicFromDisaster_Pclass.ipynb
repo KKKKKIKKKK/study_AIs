{
 "cells": [
  {
   "cell_type": "markdown",
   "id": "04c4cbda-d108-4931-9d1b-1db7a951ad06",
   "metadata": {},
   "source": [
    "### 지도학습 "
   ]
  },
  {
   "cell_type": "code",
   "execution_count": 1,
   "id": "2c3e7371-86fc-4d18-8a75-62a38211aa6a",
   "metadata": {
    "tags": []
   },
   "outputs": [],
   "source": [
    "#### 분류 - 다항분류 (3개이상)"
   ]
  },
  {
   "cell_type": "code",
   "execution_count": 2,
   "id": "afe1ff08-fea1-44d9-ac9c-242887bb6e83",
   "metadata": {
    "tags": []
   },
   "outputs": [],
   "source": [
    "import pandas as pd "
   ]
  },
  {
   "cell_type": "code",
   "execution_count": 3,
   "id": "e82870ee-2924-4884-b4b8-eadfc3f69441",
   "metadata": {
    "tags": []
   },
   "outputs": [
    {
     "data": {
      "text/html": [
       "<div>\n",
       "<style scoped>\n",
       "    .dataframe tbody tr th:only-of-type {\n",
       "        vertical-align: middle;\n",
       "    }\n",
       "\n",
       "    .dataframe tbody tr th {\n",
       "        vertical-align: top;\n",
       "    }\n",
       "\n",
       "    .dataframe thead th {\n",
       "        text-align: right;\n",
       "    }\n",
       "</style>\n",
       "<table border=\"1\" class=\"dataframe\">\n",
       "  <thead>\n",
       "    <tr style=\"text-align: right;\">\n",
       "      <th></th>\n",
       "      <th>PassengerId</th>\n",
       "      <th>Survived</th>\n",
       "      <th>Pclass</th>\n",
       "      <th>Name</th>\n",
       "      <th>Sex</th>\n",
       "      <th>Age</th>\n",
       "      <th>SibSp</th>\n",
       "      <th>Parch</th>\n",
       "      <th>Ticket</th>\n",
       "      <th>Fare</th>\n",
       "      <th>Cabin</th>\n",
       "      <th>Embarked</th>\n",
       "    </tr>\n",
       "  </thead>\n",
       "  <tbody>\n",
       "    <tr>\n",
       "      <th>0</th>\n",
       "      <td>1</td>\n",
       "      <td>0</td>\n",
       "      <td>3</td>\n",
       "      <td>Braund, Mr. Owen Harris</td>\n",
       "      <td>male</td>\n",
       "      <td>22.0</td>\n",
       "      <td>1</td>\n",
       "      <td>0</td>\n",
       "      <td>A/5 21171</td>\n",
       "      <td>7.2500</td>\n",
       "      <td>NaN</td>\n",
       "      <td>S</td>\n",
       "    </tr>\n",
       "    <tr>\n",
       "      <th>1</th>\n",
       "      <td>2</td>\n",
       "      <td>1</td>\n",
       "      <td>1</td>\n",
       "      <td>Cumings, Mrs. John Bradley (Florence Briggs Th...</td>\n",
       "      <td>female</td>\n",
       "      <td>38.0</td>\n",
       "      <td>1</td>\n",
       "      <td>0</td>\n",
       "      <td>PC 17599</td>\n",
       "      <td>71.2833</td>\n",
       "      <td>C85</td>\n",
       "      <td>C</td>\n",
       "    </tr>\n",
       "  </tbody>\n",
       "</table>\n",
       "</div>"
      ],
      "text/plain": [
       "   PassengerId  Survived  Pclass  \\\n",
       "0            1         0       3   \n",
       "1            2         1       1   \n",
       "\n",
       "                                                Name     Sex   Age  SibSp  \\\n",
       "0                            Braund, Mr. Owen Harris    male  22.0      1   \n",
       "1  Cumings, Mrs. John Bradley (Florence Briggs Th...  female  38.0      1   \n",
       "\n",
       "   Parch     Ticket     Fare Cabin Embarked  \n",
       "0      0  A/5 21171   7.2500   NaN        S  \n",
       "1      0   PC 17599  71.2833   C85        C  "
      ]
     },
     "execution_count": 3,
     "metadata": {},
     "output_type": "execute_result"
    }
   ],
   "source": [
    "df_TFD = pd.read_csv('../../../datasets/TitanicFromDisaster_train.csv')\n",
    "df_TFD[:2]"
   ]
  },
  {
   "cell_type": "markdown",
   "id": "ac5d1ebc-9914-4d1c-bcc3-c1b59e15a62c",
   "metadata": {
    "tags": []
   },
   "source": [
    "#### 과정\n",
    "- 1)전처리 - 2)정형화 - 3)모델 교육 후 - 4)평가 서비스"
   ]
  },
  {
   "cell_type": "markdown",
   "id": "a5104e85-fc30-4151-8cc2-c0adf197a8d4",
   "metadata": {},
   "source": [
    "##### 1)  전처리\n",
    "- 목표변수 : Pclass"
   ]
  },
  {
   "cell_type": "code",
   "execution_count": 5,
   "id": "4e2f7dbe-2e33-49c8-847e-f61529e44ff3",
   "metadata": {
    "tags": []
   },
   "outputs": [
    {
     "data": {
      "text/plain": [
       "Index(['PassengerId', 'Survived', 'Pclass', 'Name', 'Sex', 'Age', 'SibSp',\n",
       "       'Parch', 'Ticket', 'Fare', 'Cabin', 'Embarked'],\n",
       "      dtype='object')"
      ]
     },
     "execution_count": 5,
     "metadata": {},
     "output_type": "execute_result"
    }
   ],
   "source": [
    "df_TFD.columns"
   ]
  },
  {
   "cell_type": "code",
   "execution_count": 6,
   "id": "31f346db-9ba7-4f0a-a80a-d83c49ec3d16",
   "metadata": {
    "tags": []
   },
   "outputs": [],
   "source": [
    "##우리가 쓸 것. Survived/Age/ 추출 "
   ]
  },
  {
   "cell_type": "code",
   "execution_count": 7,
   "id": "46a03235-ed07-4714-b004-90a1122d2bba",
   "metadata": {
    "tags": []
   },
   "outputs": [
    {
     "data": {
      "text/plain": [
       "Survived      0\n",
       "Pclass        0\n",
       "Age         177\n",
       "Fare          0\n",
       "dtype: int64"
      ]
     },
     "execution_count": 7,
     "metadata": {},
     "output_type": "execute_result"
    }
   ],
   "source": [
    "df_TFD_extract = df_TFD[['Survived', 'Pclass', 'Age', 'Fare']]\n",
    "df_TFD_extract.isnull().sum() # null값 확인 "
   ]
  },
  {
   "cell_type": "code",
   "execution_count": 8,
   "id": "a5e6f76c-f79b-45a1-8648-1110d0f10ca0",
   "metadata": {
    "tags": []
   },
   "outputs": [
    {
     "data": {
      "text/html": [
       "<div>\n",
       "<style scoped>\n",
       "    .dataframe tbody tr th:only-of-type {\n",
       "        vertical-align: middle;\n",
       "    }\n",
       "\n",
       "    .dataframe tbody tr th {\n",
       "        vertical-align: top;\n",
       "    }\n",
       "\n",
       "    .dataframe thead th {\n",
       "        text-align: right;\n",
       "    }\n",
       "</style>\n",
       "<table border=\"1\" class=\"dataframe\">\n",
       "  <thead>\n",
       "    <tr style=\"text-align: right;\">\n",
       "      <th></th>\n",
       "      <th>Survived</th>\n",
       "      <th>Pclass</th>\n",
       "      <th>Age</th>\n",
       "      <th>Fare</th>\n",
       "    </tr>\n",
       "  </thead>\n",
       "  <tbody>\n",
       "    <tr>\n",
       "      <th>0</th>\n",
       "      <td>0</td>\n",
       "      <td>3</td>\n",
       "      <td>22.0</td>\n",
       "      <td>7.2500</td>\n",
       "    </tr>\n",
       "    <tr>\n",
       "      <th>1</th>\n",
       "      <td>1</td>\n",
       "      <td>1</td>\n",
       "      <td>38.0</td>\n",
       "      <td>71.2833</td>\n",
       "    </tr>\n",
       "  </tbody>\n",
       "</table>\n",
       "</div>"
      ],
      "text/plain": [
       "   Survived  Pclass   Age     Fare\n",
       "0         0       3  22.0   7.2500\n",
       "1         1       1  38.0  71.2833"
      ]
     },
     "execution_count": 8,
     "metadata": {},
     "output_type": "execute_result"
    }
   ],
   "source": [
    "df_TFD_extract_preprocess = df_TFD_extract.dropna() #drop 시킨 후  변수 담기.\n",
    "df_TFD_extract_preprocess[:2] # 해당 변수  2개만 찍어보기. "
   ]
  },
  {
   "cell_type": "code",
   "execution_count": 9,
   "id": "cd68b1d7-4d31-4583-b66f-af52935ed19d",
   "metadata": {
    "tags": []
   },
   "outputs": [],
   "source": [
    "#정형화시키기"
   ]
  },
  {
   "cell_type": "code",
   "execution_count": 12,
   "id": "595bc0b1-0246-4c16-96ef-10f4412c33c9",
   "metadata": {
    "tags": []
   },
   "outputs": [
    {
     "data": {
      "text/plain": [
       "3    0.497199\n",
       "1    0.260504\n",
       "2    0.242297\n",
       "Name: Pclass, dtype: float64"
      ]
     },
     "execution_count": 12,
     "metadata": {},
     "output_type": "execute_result"
    }
   ],
   "source": [
    "df_TFD_extract_preprocess['Pclass'].value_counts(3)"
   ]
  },
  {
   "cell_type": "markdown",
   "id": "325c555e-4297-4259-a0a9-bc027b943c6b",
   "metadata": {},
   "source": [
    "### 1. 정형화 단계  \n",
    "- 목표변수와 설명변수 나누기 "
   ]
  },
  {
   "cell_type": "code",
   "execution_count": 13,
   "id": "fd069e41-0a30-437f-aebd-6efa22971905",
   "metadata": {
    "tags": []
   },
   "outputs": [
    {
     "data": {
      "text/plain": [
       "((714,), (714, 3))"
      ]
     },
     "execution_count": 13,
     "metadata": {},
     "output_type": "execute_result"
    }
   ],
   "source": [
    "# target_train = 성능을 높이기 위해 사용 \n",
    "target_train = df_TFD_extract_preprocess['Pclass'] # pclass (목표변수) 확인하기 \n",
    "features_train = df_TFD_extract_preprocess.drop(columns=['Pclass']) #Pclass 만 빠져잇는 (설명변수)를 만들 수 있음 \n",
    "target_train.shape, features_train.shape"
   ]
  },
  {
   "cell_type": "markdown",
   "id": "7c10c268-dc71-4ea4-905b-978938d214af",
   "metadata": {},
   "source": [
    "### 2. 모델학습[TREE] "
   ]
  },
  {
   "cell_type": "code",
   "execution_count": 14,
   "id": "0dee15c6-ebf7-4ff5-80a2-8afbfe974b9d",
   "metadata": {
    "tags": []
   },
   "outputs": [
    {
     "data": {
      "text/html": [
       "<style>#sk-container-id-1 {color: black;background-color: white;}#sk-container-id-1 pre{padding: 0;}#sk-container-id-1 div.sk-toggleable {background-color: white;}#sk-container-id-1 label.sk-toggleable__label {cursor: pointer;display: block;width: 100%;margin-bottom: 0;padding: 0.3em;box-sizing: border-box;text-align: center;}#sk-container-id-1 label.sk-toggleable__label-arrow:before {content: \"▸\";float: left;margin-right: 0.25em;color: #696969;}#sk-container-id-1 label.sk-toggleable__label-arrow:hover:before {color: black;}#sk-container-id-1 div.sk-estimator:hover label.sk-toggleable__label-arrow:before {color: black;}#sk-container-id-1 div.sk-toggleable__content {max-height: 0;max-width: 0;overflow: hidden;text-align: left;background-color: #f0f8ff;}#sk-container-id-1 div.sk-toggleable__content pre {margin: 0.2em;color: black;border-radius: 0.25em;background-color: #f0f8ff;}#sk-container-id-1 input.sk-toggleable__control:checked~div.sk-toggleable__content {max-height: 200px;max-width: 100%;overflow: auto;}#sk-container-id-1 input.sk-toggleable__control:checked~label.sk-toggleable__label-arrow:before {content: \"▾\";}#sk-container-id-1 div.sk-estimator input.sk-toggleable__control:checked~label.sk-toggleable__label {background-color: #d4ebff;}#sk-container-id-1 div.sk-label input.sk-toggleable__control:checked~label.sk-toggleable__label {background-color: #d4ebff;}#sk-container-id-1 input.sk-hidden--visually {border: 0;clip: rect(1px 1px 1px 1px);clip: rect(1px, 1px, 1px, 1px);height: 1px;margin: -1px;overflow: hidden;padding: 0;position: absolute;width: 1px;}#sk-container-id-1 div.sk-estimator {font-family: monospace;background-color: #f0f8ff;border: 1px dotted black;border-radius: 0.25em;box-sizing: border-box;margin-bottom: 0.5em;}#sk-container-id-1 div.sk-estimator:hover {background-color: #d4ebff;}#sk-container-id-1 div.sk-parallel-item::after {content: \"\";width: 100%;border-bottom: 1px solid gray;flex-grow: 1;}#sk-container-id-1 div.sk-label:hover label.sk-toggleable__label {background-color: #d4ebff;}#sk-container-id-1 div.sk-serial::before {content: \"\";position: absolute;border-left: 1px solid gray;box-sizing: border-box;top: 0;bottom: 0;left: 50%;z-index: 0;}#sk-container-id-1 div.sk-serial {display: flex;flex-direction: column;align-items: center;background-color: white;padding-right: 0.2em;padding-left: 0.2em;position: relative;}#sk-container-id-1 div.sk-item {position: relative;z-index: 1;}#sk-container-id-1 div.sk-parallel {display: flex;align-items: stretch;justify-content: center;background-color: white;position: relative;}#sk-container-id-1 div.sk-item::before, #sk-container-id-1 div.sk-parallel-item::before {content: \"\";position: absolute;border-left: 1px solid gray;box-sizing: border-box;top: 0;bottom: 0;left: 50%;z-index: -1;}#sk-container-id-1 div.sk-parallel-item {display: flex;flex-direction: column;z-index: 1;position: relative;background-color: white;}#sk-container-id-1 div.sk-parallel-item:first-child::after {align-self: flex-end;width: 50%;}#sk-container-id-1 div.sk-parallel-item:last-child::after {align-self: flex-start;width: 50%;}#sk-container-id-1 div.sk-parallel-item:only-child::after {width: 0;}#sk-container-id-1 div.sk-dashed-wrapped {border: 1px dashed gray;margin: 0 0.4em 0.5em 0.4em;box-sizing: border-box;padding-bottom: 0.4em;background-color: white;}#sk-container-id-1 div.sk-label label {font-family: monospace;font-weight: bold;display: inline-block;line-height: 1.2em;}#sk-container-id-1 div.sk-label-container {text-align: center;}#sk-container-id-1 div.sk-container {/* jupyter's `normalize.less` sets `[hidden] { display: none; }` but bootstrap.min.css set `[hidden] { display: none !important; }` so we also need the `!important` here to be able to override the default hidden behavior on the sphinx rendered scikit-learn.org. See: https://github.com/scikit-learn/scikit-learn/issues/21755 */display: inline-block !important;position: relative;}#sk-container-id-1 div.sk-text-repr-fallback {display: none;}</style><div id=\"sk-container-id-1\" class=\"sk-top-container\"><div class=\"sk-text-repr-fallback\"><pre>DecisionTreeClassifier()</pre><b>In a Jupyter environment, please rerun this cell to show the HTML representation or trust the notebook. <br />On GitHub, the HTML representation is unable to render, please try loading this page with nbviewer.org.</b></div><div class=\"sk-container\" hidden><div class=\"sk-item\"><div class=\"sk-estimator sk-toggleable\"><input class=\"sk-toggleable__control sk-hidden--visually\" id=\"sk-estimator-id-1\" type=\"checkbox\" checked><label for=\"sk-estimator-id-1\" class=\"sk-toggleable__label sk-toggleable__label-arrow\">DecisionTreeClassifier</label><div class=\"sk-toggleable__content\"><pre>DecisionTreeClassifier()</pre></div></div></div></div></div>"
      ],
      "text/plain": [
       "DecisionTreeClassifier()"
      ]
     },
     "execution_count": 14,
     "metadata": {},
     "output_type": "execute_result"
    }
   ],
   "source": [
    "#TREE를 분기하듯이, 마지막 가지 끝에 열매(목표변수)를 달기. \n",
    "from sklearn.tree import DecisionTreeClassifier\n",
    "model = DecisionTreeClassifier()\n",
    "model.fit(features_train, target_train) # 모델훈련은 fit으로 진행. "
   ]
  },
  {
   "cell_type": "code",
   "execution_count": 18,
   "id": "7e197b10-f6a0-4286-b883-56911e312b83",
   "metadata": {
    "tags": []
   },
   "outputs": [],
   "source": [
    "import matplotlib.pyplot as plt\n",
    "from sklearn.tree import plot_tree"
   ]
  },
  {
   "cell_type": "code",
   "execution_count": 20,
   "id": "7db8affc-2d8c-4550-bc00-71b0f99f69f5",
   "metadata": {
    "tags": []
   },
   "outputs": [
    {
     "data": {
      "text/plain": [
       "['Survived', 'Age', 'Fare']"
      ]
     },
     "execution_count": 20,
     "metadata": {},
     "output_type": "execute_result"
    }
   ],
   "source": [
    "features_train.columns.to_list()"
   ]
  },
  {
   "cell_type": "code",
   "execution_count": 24,
   "id": "7f73a1de-0eb4-4592-ae43-3fa31f53829a",
   "metadata": {
    "tags": []
   },
   "outputs": [],
   "source": [
    "#%matplotlib tk "
   ]
  },
  {
   "cell_type": "code",
   "execution_count": 34,
   "id": "12df53dd-926c-43e4-a3ba-2bd9149dda27",
   "metadata": {
    "tags": []
   },
   "outputs": [],
   "source": [
    "#plot_tree(model, feature_names=features_train.columns.to_list()) # 수치와함께 그래프 표시 \n",
    "plt.figure(figsize=(55,30)) #w정해진사이즈를 벗어나게 하려면 figsize=\n",
    "plot_tree(model, feature_names=features_train.columns.to_list(), filled=True) # 옵션 \n",
    "plt.show()"
   ]
  },
  {
   "cell_type": "markdown",
   "id": "c214cdd0-b39b-4659-854e-ad6f47c28f7c",
   "metadata": {},
   "source": [
    "### 3. 평가"
   ]
  },
  {
   "cell_type": "code",
   "execution_count": 16,
   "id": "dafaf0c9-4186-4859-908d-12994a50e747",
   "metadata": {
    "tags": []
   },
   "outputs": [
    {
     "data": {
      "text/plain": [
       "(714,)"
      ]
     },
     "execution_count": 16,
     "metadata": {},
     "output_type": "execute_result"
    }
   ],
   "source": [
    "#내가 낸 답안지 VS 실제 답 비교 \n",
    "target_predict = model.predict(features_train)\n",
    "target_predict.shape "
   ]
  },
  {
   "cell_type": "markdown",
   "id": "19c71743-ccf3-4488-bbc7-bd6904dddb4b",
   "metadata": {},
   "source": [
    "### 4. score 확인 "
   ]
  },
  {
   "cell_type": "code",
   "execution_count": 17,
   "id": "f1880d9a-d68a-4b97-9051-7fdd47405b43",
   "metadata": {
    "tags": []
   },
   "outputs": [
    {
     "data": {
      "text/plain": [
       "1.0"
      ]
     },
     "execution_count": 17,
     "metadata": {},
     "output_type": "execute_result"
    }
   ],
   "source": [
    "# 1.0 = 100% 센트로 해당 학생은 성적이 좋음. \n",
    "from sklearn.metrics import accuracy_score\n",
    "accuracy_score(target_train,target_predict)"
   ]
  },
  {
   "cell_type": "code",
   "execution_count": null,
   "id": "edc81a16-1cb5-488b-b9c6-5424df2ce027",
   "metadata": {},
   "outputs": [],
   "source": []
  }
 ],
 "metadata": {
  "kernelspec": {
   "display_name": "Python 3 (ipykernel)",
   "language": "python",
   "name": "python3"
  },
  "language_info": {
   "codemirror_mode": {
    "name": "ipython",
    "version": 3
   },
   "file_extension": ".py",
   "mimetype": "text/x-python",
   "name": "python",
   "nbconvert_exporter": "python",
   "pygments_lexer": "ipython3",
   "version": "3.11.3"
  }
 },
 "nbformat": 4,
 "nbformat_minor": 5
}
