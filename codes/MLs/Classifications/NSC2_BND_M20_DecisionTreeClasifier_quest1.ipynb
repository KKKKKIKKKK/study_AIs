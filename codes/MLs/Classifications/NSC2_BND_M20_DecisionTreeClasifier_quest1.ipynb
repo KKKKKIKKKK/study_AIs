{
 "cells": [
  {
   "cell_type": "code",
   "execution_count": 1,
   "id": "991f5cd8-8e3c-4bd5-a000-83f36668e40a",
   "metadata": {
    "tags": []
   },
   "outputs": [],
   "source": [
    "import matplotlib.pyplot as plt\n",
    "import matplotlib as mpl\n",
    "mpl.rc('font',family='Malgun Gothic')\n",
    "import seaborn as sns\n",
    "import pandas as pd\n",
    "import scipy.stats as stats\n",
    "import numpy as np"
   ]
  },
  {
   "cell_type": "code",
   "execution_count": 15,
   "id": "dbb23fd5-d59a-4b2e-a609-4af309c720b8",
   "metadata": {
    "tags": []
   },
   "outputs": [
    {
     "name": "stderr",
     "output_type": "stream",
     "text": [
      "C:\\Users\\5-20\\AppData\\Local\\Temp\\ipykernel_19320\\2365204107.py:1: DtypeWarning: Columns (2) have mixed types. Specify dtype option on import or set low_memory=False.\n",
      "  df_BM= pd.read_csv('../Classifications/Join Collection NSC2_BND_M20.csv')\n"
     ]
    },
    {
     "data": {
      "text/html": [
       "<div>\n",
       "<style scoped>\n",
       "    .dataframe tbody tr th:only-of-type {\n",
       "        vertical-align: middle;\n",
       "    }\n",
       "\n",
       "    .dataframe tbody tr th {\n",
       "        vertical-align: top;\n",
       "    }\n",
       "\n",
       "    .dataframe thead th {\n",
       "        text-align: right;\n",
       "    }\n",
       "</style>\n",
       "<table border=\"1\" class=\"dataframe\">\n",
       "  <thead>\n",
       "    <tr style=\"text-align: right;\">\n",
       "      <th></th>\n",
       "      <th>Unnamed: 0</th>\n",
       "      <th>EDC_SBA</th>\n",
       "      <th>BTH_YYYY</th>\n",
       "      <th>DTH_YYYYMM</th>\n",
       "      <th>MCARE_SUBJ_CD</th>\n",
       "      <th>OPRTN_YN</th>\n",
       "      <th>TOT_PRSC_DD_CNT</th>\n",
       "      <th>MCARE_RSLT_TYPE</th>\n",
       "      <th>STD_YYYY</th>\n",
       "    </tr>\n",
       "  </thead>\n",
       "  <tbody>\n",
       "    <tr>\n",
       "      <th>0</th>\n",
       "      <td>0</td>\n",
       "      <td>3000</td>\n",
       "      <td>1921LE</td>\n",
       "      <td>200707.0</td>\n",
       "      <td>14</td>\n",
       "      <td>0</td>\n",
       "      <td>3</td>\n",
       "      <td>5.0</td>\n",
       "      <td>2002</td>\n",
       "    </tr>\n",
       "    <tr>\n",
       "      <th>1</th>\n",
       "      <td>1</td>\n",
       "      <td>4950</td>\n",
       "      <td>1921LE</td>\n",
       "      <td>200707.0</td>\n",
       "      <td>13</td>\n",
       "      <td>0</td>\n",
       "      <td>2</td>\n",
       "      <td>5.0</td>\n",
       "      <td>2002</td>\n",
       "    </tr>\n",
       "  </tbody>\n",
       "</table>\n",
       "</div>"
      ],
      "text/plain": [
       "   Unnamed: 0  EDC_SBA BTH_YYYY  DTH_YYYYMM  MCARE_SUBJ_CD  OPRTN_YN  \\\n",
       "0           0     3000   1921LE    200707.0             14         0   \n",
       "1           1     4950   1921LE    200707.0             13         0   \n",
       "\n",
       "   TOT_PRSC_DD_CNT  MCARE_RSLT_TYPE  STD_YYYY  \n",
       "0                3              5.0      2002  \n",
       "1                2              5.0      2002  "
      ]
     },
     "execution_count": 15,
     "metadata": {},
     "output_type": "execute_result"
    }
   ],
   "source": [
    "df_BM= pd.read_csv('../Classifications/Join Collection NSC2_BND_M20.csv')\n",
    "df_BM[:2]"
   ]
  },
  {
   "cell_type": "code",
   "execution_count": 8,
   "id": "5b708828-6369-459d-a8c2-6172c25dadbd",
   "metadata": {
    "tags": []
   },
   "outputs": [
    {
     "name": "stdout",
     "output_type": "stream",
     "text": [
      "<class 'pandas.core.frame.DataFrame'>\n",
      "RangeIndex: 137163 entries, 0 to 137162\n",
      "Data columns (total 9 columns):\n",
      " #   Column           Non-Null Count   Dtype  \n",
      "---  ------           --------------   -----  \n",
      " 0   Unnamed: 0       137163 non-null  int64  \n",
      " 1   EDC_SBA          137163 non-null  int64  \n",
      " 2   BTH_YYYY         137163 non-null  object \n",
      " 3   DTH_YYYYMM       10269 non-null   float64\n",
      " 4   MCARE_SUBJ_CD    137163 non-null  int64  \n",
      " 5   OPRTN_YN         137163 non-null  int64  \n",
      " 6   TOT_PRSC_DD_CNT  137163 non-null  int64  \n",
      " 7   MCARE_RSLT_TYPE  133958 non-null  float64\n",
      " 8   STD_YYYY         137163 non-null  int64  \n",
      "dtypes: float64(2), int64(6), object(1)\n",
      "memory usage: 9.4+ MB\n"
     ]
    }
   ],
   "source": [
    "df_BM.info()"
   ]
  },
  {
   "cell_type": "code",
   "execution_count": 16,
   "id": "66d5bdf3-2739-414e-9d00-021129b1cfe9",
   "metadata": {
    "tags": []
   },
   "outputs": [],
   "source": [
    "### 지도학습 "
   ]
  },
  {
   "cell_type": "markdown",
   "id": "0f88cdca-26cd-4539-a931-fe498ce44e0b",
   "metadata": {
    "tags": []
   },
   "source": [
    "#### 분류 - 이진분류(2개의 항목)"
   ]
  },
  {
   "cell_type": "markdown",
   "id": "a9521205-e5eb-4615-9f62-320944699f6c",
   "metadata": {},
   "source": [
    "#### 과정\n",
    "- 전처리 - 정형화 - 모델 교육 후 - 평가 서비스"
   ]
  },
  {
   "cell_type": "code",
   "execution_count": 17,
   "id": "6635ebd7-4649-4dc7-be7c-5c9f750a9fc4",
   "metadata": {
    "tags": []
   },
   "outputs": [],
   "source": [
    "### 숫자가 안들어간 것 \n",
    "## survived name sex ticket 등 "
   ]
  },
  {
   "cell_type": "code",
   "execution_count": 19,
   "id": "d5f5dc59-794e-4e6f-bbca-60497c70fd1d",
   "metadata": {
    "tags": []
   },
   "outputs": [],
   "source": [
    "import pymongo as mg\n",
    "import pandas as pd\n",
    "client = mg.MongoClient(host='mongodb://localhost:27017')"
   ]
  },
  {
   "cell_type": "code",
   "execution_count": 21,
   "id": "3faf73cf-d8ac-4591-859b-790cb1c30fad",
   "metadata": {
    "tags": []
   },
   "outputs": [],
   "source": [
    "database = client['db_NHIS']\n",
    "collection = database['Join Collection NSC2_BND_M20']"
   ]
  },
  {
   "cell_type": "code",
   "execution_count": 27,
   "id": "8dacc286-6fe8-4395-a4b3-317e1c291056",
   "metadata": {
    "tags": []
   },
   "outputs": [
    {
     "data": {
      "text/plain": [
       "[{'_id': ObjectId('64e6cbf07574768bae8e9ed1'),\n",
       "  'RN_INDI': 294364,\n",
       "  'BTH_YYYY': '1921LE',\n",
       "  'DTH_YYYYMM': 200707,\n",
       "  'COD1': 'T08-T14',\n",
       "  'COD2': 'W00-W19',\n",
       "  'RN_KEY': 2002080298703,\n",
       "  'RN_INST': 26452,\n",
       "  'MDCARE_STRT_DT': 20020830,\n",
       "  'FORM_CD': 3,\n",
       "  'MCARE_SUBJ_CD': 14,\n",
       "  'SICK_SYM1': 'L028',\n",
       "  'OFIJ_TYPE': 0,\n",
       "  'OPRTN_YN': 0,\n",
       "  'MDCARE_DD_CNT': 1,\n",
       "  'VSHSP_DD_CNT': 1,\n",
       "  'TOT_PRSC_DD_CNT': 3,\n",
       "  'MCARE_RSLT_TYPE': 5,\n",
       "  'EDC_ADD_RT': 0.15,\n",
       "  'ED_RC_TOT_AMT': 10590,\n",
       "  'EDC_SBA': 3000,\n",
       "  'EDC_INSUR_BRDN_AMT': 7590,\n",
       "  'STD_YYYY': 2002},\n",
       " {'_id': ObjectId('64e6cbf07574768bae8e9ed2'),\n",
       "  'RN_INDI': 294364,\n",
       "  'BTH_YYYY': '1921LE',\n",
       "  'DTH_YYYYMM': 200707,\n",
       "  'COD1': 'T08-T14',\n",
       "  'COD2': 'W00-W19',\n",
       "  'RN_KEY': 2002090466395,\n",
       "  'RN_INST': 63715,\n",
       "  'MDCARE_STRT_DT': 20020910,\n",
       "  'FORM_CD': 3,\n",
       "  'MCARE_SUBJ_CD': 13,\n",
       "  'SICK_SYM1': 'J030',\n",
       "  'OPRTN_YN': 0,\n",
       "  'MDCARE_DD_CNT': 1,\n",
       "  'VSHSP_DD_CNT': 1,\n",
       "  'TOT_PRSC_DD_CNT': 2,\n",
       "  'MCARE_RSLT_TYPE': 5,\n",
       "  'EDC_ADD_RT': 0.15,\n",
       "  'ED_RC_TOT_AMT': 16520,\n",
       "  'EDC_SBA': 4950,\n",
       "  'EDC_INSUR_BRDN_AMT': 11570,\n",
       "  'STD_YYYY': 2002},\n",
       " {'_id': ObjectId('64e6cbf07574768bae8e9ed3'),\n",
       "  'RN_INDI': 294364,\n",
       "  'BTH_YYYY': '1921LE',\n",
       "  'DTH_YYYYMM': 200707,\n",
       "  'COD1': 'T08-T14',\n",
       "  'COD2': 'W00-W19',\n",
       "  'RN_KEY': 2002091053122,\n",
       "  'RN_INST': 63715,\n",
       "  'MDCARE_STRT_DT': 20020909,\n",
       "  'FORM_CD': 3,\n",
       "  'MCARE_SUBJ_CD': 13,\n",
       "  'SICK_SYM1': 'J030',\n",
       "  'OPRTN_YN': 0,\n",
       "  'MDCARE_DD_CNT': 3,\n",
       "  'VSHSP_DD_CNT': 3,\n",
       "  'TOT_PRSC_DD_CNT': 3,\n",
       "  'MCARE_RSLT_TYPE': 5,\n",
       "  'EDC_ADD_RT': 0.15,\n",
       "  'ED_RC_TOT_AMT': 27620,\n",
       "  'EDC_SBA': 9000,\n",
       "  'EDC_INSUR_BRDN_AMT': 18620,\n",
       "  'STD_YYYY': 2002},\n",
       " {'_id': ObjectId('64e6cbf07574768bae8e9ed4'),\n",
       "  'RN_INDI': 294364,\n",
       "  'BTH_YYYY': '1921LE',\n",
       "  'DTH_YYYYMM': 200707,\n",
       "  'COD1': 'T08-T14',\n",
       "  'COD2': 'W00-W19',\n",
       "  'RN_KEY': 2002020488631,\n",
       "  'RN_INST': 23506,\n",
       "  'MDCARE_STRT_DT': 20020208,\n",
       "  'FORM_CD': 3,\n",
       "  'MCARE_SUBJ_CD': 1,\n",
       "  'SICK_SYM1': 'K291',\n",
       "  'OFIJ_TYPE': 0,\n",
       "  'OPRTN_YN': 0,\n",
       "  'MDCARE_DD_CNT': 1,\n",
       "  'VSHSP_DD_CNT': 1,\n",
       "  'TOT_PRSC_DD_CNT': 3,\n",
       "  'MCARE_RSLT_TYPE': 5,\n",
       "  'EDC_ADD_RT': 0.15,\n",
       "  'ED_RC_TOT_AMT': 12920,\n",
       "  'EDC_SBA': 3000,\n",
       "  'EDC_INSUR_BRDN_AMT': 9920,\n",
       "  'STD_YYYY': 2002},\n",
       " {'_id': ObjectId('64e6cbf07574768bae8e9ed5'),\n",
       "  'RN_INDI': 294364,\n",
       "  'BTH_YYYY': '1921LE',\n",
       "  'DTH_YYYYMM': 200707,\n",
       "  'COD1': 'T08-T14',\n",
       "  'COD2': 'W00-W19',\n",
       "  'RN_KEY': 2002060822342,\n",
       "  'RN_INST': 23506,\n",
       "  'MDCARE_STRT_DT': 20020628,\n",
       "  'FORM_CD': 3,\n",
       "  'MCARE_SUBJ_CD': 5,\n",
       "  'SICK_SYM1': 'M545',\n",
       "  'OFIJ_TYPE': 0,\n",
       "  'OPRTN_YN': 0,\n",
       "  'MDCARE_DD_CNT': 1,\n",
       "  'VSHSP_DD_CNT': 1,\n",
       "  'TOT_PRSC_DD_CNT': 0,\n",
       "  'MCARE_RSLT_TYPE': 5,\n",
       "  'EDC_ADD_RT': 0.15,\n",
       "  'ED_RC_TOT_AMT': 14230,\n",
       "  'EDC_SBA': 3000,\n",
       "  'EDC_INSUR_BRDN_AMT': 11230,\n",
       "  'STD_YYYY': 2002},\n",
       " {'_id': ObjectId('64e6cbf07574768bae8e9ed6'),\n",
       "  'RN_INDI': 294364,\n",
       "  'BTH_YYYY': '1921LE',\n",
       "  'DTH_YYYYMM': 200707,\n",
       "  'COD1': 'T08-T14',\n",
       "  'COD2': 'W00-W19',\n",
       "  'RN_KEY': 2002040690506,\n",
       "  'RN_INST': 121328,\n",
       "  'MDCARE_STRT_DT': 20020422,\n",
       "  'FORM_CD': 3,\n",
       "  'MCARE_SUBJ_CD': 13,\n",
       "  'SICK_SYM1': 'J310',\n",
       "  'OFIJ_TYPE': 0,\n",
       "  'OPRTN_YN': 0,\n",
       "  'MDCARE_DD_CNT': 2,\n",
       "  'VSHSP_DD_CNT': 2,\n",
       "  'TOT_PRSC_DD_CNT': 5,\n",
       "  'MCARE_RSLT_TYPE': 5,\n",
       "  'EDC_ADD_RT': 0.15,\n",
       "  'ED_RC_TOT_AMT': 22150,\n",
       "  'EDC_SBA': 6000,\n",
       "  'EDC_INSUR_BRDN_AMT': 16150,\n",
       "  'STD_YYYY': 2002},\n",
       " {'_id': ObjectId('64e6cbf07574768bae8e9ed7'),\n",
       "  'RN_INDI': 294364,\n",
       "  'BTH_YYYY': '1921LE',\n",
       "  'DTH_YYYYMM': 200707,\n",
       "  'COD1': 'T08-T14',\n",
       "  'COD2': 'W00-W19',\n",
       "  'RN_KEY': 2002070706300,\n",
       "  'RN_INST': 79165,\n",
       "  'MDCARE_STRT_DT': 20020704,\n",
       "  'FORM_CD': 3,\n",
       "  'MCARE_SUBJ_CD': 15,\n",
       "  'SICK_SYM1': 'N30',\n",
       "  'OFIJ_TYPE': 0,\n",
       "  'OPRTN_YN': 0,\n",
       "  'MDCARE_DD_CNT': 3,\n",
       "  'VSHSP_DD_CNT': 3,\n",
       "  'TOT_PRSC_DD_CNT': 7,\n",
       "  'MCARE_RSLT_TYPE': 5,\n",
       "  'EDC_ADD_RT': 0.15,\n",
       "  'ED_RC_TOT_AMT': 23510,\n",
       "  'EDC_SBA': 9000,\n",
       "  'EDC_INSUR_BRDN_AMT': 14510,\n",
       "  'STD_YYYY': 2002},\n",
       " {'_id': ObjectId('64e6cbf07574768bae8e9ed8'),\n",
       "  'RN_INDI': 294364,\n",
       "  'BTH_YYYY': '1921LE',\n",
       "  'DTH_YYYYMM': 200707,\n",
       "  'COD1': 'T08-T14',\n",
       "  'COD2': 'W00-W19',\n",
       "  'RN_KEY': 2002070608099,\n",
       "  'RN_INST': 23506,\n",
       "  'MDCARE_STRT_DT': 20020703,\n",
       "  'FORM_CD': 3,\n",
       "  'MCARE_SUBJ_CD': 5,\n",
       "  'SICK_SYM1': 'M545',\n",
       "  'OFIJ_TYPE': 0,\n",
       "  'OPRTN_YN': 0,\n",
       "  'MDCARE_DD_CNT': 1,\n",
       "  'VSHSP_DD_CNT': 1,\n",
       "  'TOT_PRSC_DD_CNT': 1,\n",
       "  'MCARE_RSLT_TYPE': 5,\n",
       "  'EDC_ADD_RT': 0.15,\n",
       "  'ED_RC_TOT_AMT': 31320,\n",
       "  'EDC_SBA': 9390,\n",
       "  'EDC_INSUR_BRDN_AMT': 21930,\n",
       "  'STD_YYYY': 2002},\n",
       " {'_id': ObjectId('64e6cbf07574768bae8e9ed9'),\n",
       "  'RN_INDI': 294364,\n",
       "  'BTH_YYYY': '1921LE',\n",
       "  'DTH_YYYYMM': 200707,\n",
       "  'COD1': 'T08-T14',\n",
       "  'COD2': 'W00-W19',\n",
       "  'RN_KEY': 2002070597004,\n",
       "  'RN_INST': 63715,\n",
       "  'MDCARE_STRT_DT': 20020722,\n",
       "  'FORM_CD': 3,\n",
       "  'MCARE_SUBJ_CD': 13,\n",
       "  'SICK_SYM1': 'J310',\n",
       "  'OPRTN_YN': 0,\n",
       "  'MDCARE_DD_CNT': 4,\n",
       "  'VSHSP_DD_CNT': 4,\n",
       "  'TOT_PRSC_DD_CNT': 4,\n",
       "  'MCARE_RSLT_TYPE': 5,\n",
       "  'EDC_ADD_RT': 0.15,\n",
       "  'ED_RC_TOT_AMT': 39060,\n",
       "  'EDC_SBA': 12000,\n",
       "  'EDC_INSUR_BRDN_AMT': 27060,\n",
       "  'STD_YYYY': 2002},\n",
       " {'_id': ObjectId('64e6cbf07574768bae8e9eda'),\n",
       "  'RN_INDI': 294364,\n",
       "  'BTH_YYYY': '1921LE',\n",
       "  'DTH_YYYYMM': 200707,\n",
       "  'COD1': 'T08-T14',\n",
       "  'COD2': 'W00-W19',\n",
       "  'RN_KEY': 2002040392111,\n",
       "  'RN_INST': 23506,\n",
       "  'MDCARE_STRT_DT': 20020413,\n",
       "  'FORM_CD': 3,\n",
       "  'MCARE_SUBJ_CD': 1,\n",
       "  'SICK_SYM1': 'J060',\n",
       "  'OFIJ_TYPE': 0,\n",
       "  'OPRTN_YN': 0,\n",
       "  'MDCARE_DD_CNT': 6,\n",
       "  'VSHSP_DD_CNT': 6,\n",
       "  'TOT_PRSC_DD_CNT': 8,\n",
       "  'MCARE_RSLT_TYPE': 5,\n",
       "  'EDC_ADD_RT': 0.15,\n",
       "  'ED_RC_TOT_AMT': 53640,\n",
       "  'EDC_SBA': 18000,\n",
       "  'EDC_INSUR_BRDN_AMT': 35640,\n",
       "  'STD_YYYY': 2002}]"
      ]
     },
     "execution_count": 27,
     "metadata": {},
     "output_type": "execute_result"
    }
   ],
   "source": [
    "cursor = collection.find({})\n",
    "list_BND_M20 = list(cursor)\n",
    "list_BND_M20[:10]"
   ]
  },
  {
   "cell_type": "code",
   "execution_count": 29,
   "id": "06f830f4-f07c-4cfc-a70d-ddb212874475",
   "metadata": {
    "tags": []
   },
   "outputs": [
    {
     "data": {
      "text/html": [
       "<div>\n",
       "<style scoped>\n",
       "    .dataframe tbody tr th:only-of-type {\n",
       "        vertical-align: middle;\n",
       "    }\n",
       "\n",
       "    .dataframe tbody tr th {\n",
       "        vertical-align: top;\n",
       "    }\n",
       "\n",
       "    .dataframe thead th {\n",
       "        text-align: right;\n",
       "    }\n",
       "</style>\n",
       "<table border=\"1\" class=\"dataframe\">\n",
       "  <thead>\n",
       "    <tr style=\"text-align: right;\">\n",
       "      <th></th>\n",
       "      <th>_id</th>\n",
       "      <th>RN_INDI</th>\n",
       "      <th>BTH_YYYY</th>\n",
       "      <th>DTH_YYYYMM</th>\n",
       "      <th>COD1</th>\n",
       "      <th>COD2</th>\n",
       "      <th>RN_KEY</th>\n",
       "      <th>RN_INST</th>\n",
       "      <th>MDCARE_STRT_DT</th>\n",
       "      <th>FORM_CD</th>\n",
       "      <th>...</th>\n",
       "      <th>OPRTN_YN</th>\n",
       "      <th>MDCARE_DD_CNT</th>\n",
       "      <th>VSHSP_DD_CNT</th>\n",
       "      <th>TOT_PRSC_DD_CNT</th>\n",
       "      <th>MCARE_RSLT_TYPE</th>\n",
       "      <th>EDC_ADD_RT</th>\n",
       "      <th>ED_RC_TOT_AMT</th>\n",
       "      <th>EDC_SBA</th>\n",
       "      <th>EDC_INSUR_BRDN_AMT</th>\n",
       "      <th>STD_YYYY</th>\n",
       "    </tr>\n",
       "  </thead>\n",
       "  <tbody>\n",
       "    <tr>\n",
       "      <th>0</th>\n",
       "      <td>64e6cbf07574768bae8e9ed1</td>\n",
       "      <td>294364</td>\n",
       "      <td>1921LE</td>\n",
       "      <td>200707.0</td>\n",
       "      <td>T08-T14</td>\n",
       "      <td>W00-W19</td>\n",
       "      <td>2002080298703</td>\n",
       "      <td>26452</td>\n",
       "      <td>20020830</td>\n",
       "      <td>3</td>\n",
       "      <td>...</td>\n",
       "      <td>0</td>\n",
       "      <td>1</td>\n",
       "      <td>1</td>\n",
       "      <td>3</td>\n",
       "      <td>5.0</td>\n",
       "      <td>0.15</td>\n",
       "      <td>10590</td>\n",
       "      <td>3000</td>\n",
       "      <td>7590</td>\n",
       "      <td>2002</td>\n",
       "    </tr>\n",
       "    <tr>\n",
       "      <th>1</th>\n",
       "      <td>64e6cbf07574768bae8e9ed2</td>\n",
       "      <td>294364</td>\n",
       "      <td>1921LE</td>\n",
       "      <td>200707.0</td>\n",
       "      <td>T08-T14</td>\n",
       "      <td>W00-W19</td>\n",
       "      <td>2002090466395</td>\n",
       "      <td>63715</td>\n",
       "      <td>20020910</td>\n",
       "      <td>3</td>\n",
       "      <td>...</td>\n",
       "      <td>0</td>\n",
       "      <td>1</td>\n",
       "      <td>1</td>\n",
       "      <td>2</td>\n",
       "      <td>5.0</td>\n",
       "      <td>0.15</td>\n",
       "      <td>16520</td>\n",
       "      <td>4950</td>\n",
       "      <td>11570</td>\n",
       "      <td>2002</td>\n",
       "    </tr>\n",
       "    <tr>\n",
       "      <th>2</th>\n",
       "      <td>64e6cbf07574768bae8e9ed3</td>\n",
       "      <td>294364</td>\n",
       "      <td>1921LE</td>\n",
       "      <td>200707.0</td>\n",
       "      <td>T08-T14</td>\n",
       "      <td>W00-W19</td>\n",
       "      <td>2002091053122</td>\n",
       "      <td>63715</td>\n",
       "      <td>20020909</td>\n",
       "      <td>3</td>\n",
       "      <td>...</td>\n",
       "      <td>0</td>\n",
       "      <td>3</td>\n",
       "      <td>3</td>\n",
       "      <td>3</td>\n",
       "      <td>5.0</td>\n",
       "      <td>0.15</td>\n",
       "      <td>27620</td>\n",
       "      <td>9000</td>\n",
       "      <td>18620</td>\n",
       "      <td>2002</td>\n",
       "    </tr>\n",
       "    <tr>\n",
       "      <th>3</th>\n",
       "      <td>64e6cbf07574768bae8e9ed4</td>\n",
       "      <td>294364</td>\n",
       "      <td>1921LE</td>\n",
       "      <td>200707.0</td>\n",
       "      <td>T08-T14</td>\n",
       "      <td>W00-W19</td>\n",
       "      <td>2002020488631</td>\n",
       "      <td>23506</td>\n",
       "      <td>20020208</td>\n",
       "      <td>3</td>\n",
       "      <td>...</td>\n",
       "      <td>0</td>\n",
       "      <td>1</td>\n",
       "      <td>1</td>\n",
       "      <td>3</td>\n",
       "      <td>5.0</td>\n",
       "      <td>0.15</td>\n",
       "      <td>12920</td>\n",
       "      <td>3000</td>\n",
       "      <td>9920</td>\n",
       "      <td>2002</td>\n",
       "    </tr>\n",
       "    <tr>\n",
       "      <th>4</th>\n",
       "      <td>64e6cbf07574768bae8e9ed5</td>\n",
       "      <td>294364</td>\n",
       "      <td>1921LE</td>\n",
       "      <td>200707.0</td>\n",
       "      <td>T08-T14</td>\n",
       "      <td>W00-W19</td>\n",
       "      <td>2002060822342</td>\n",
       "      <td>23506</td>\n",
       "      <td>20020628</td>\n",
       "      <td>3</td>\n",
       "      <td>...</td>\n",
       "      <td>0</td>\n",
       "      <td>1</td>\n",
       "      <td>1</td>\n",
       "      <td>0</td>\n",
       "      <td>5.0</td>\n",
       "      <td>0.15</td>\n",
       "      <td>14230</td>\n",
       "      <td>3000</td>\n",
       "      <td>11230</td>\n",
       "      <td>2002</td>\n",
       "    </tr>\n",
       "  </tbody>\n",
       "</table>\n",
       "<p>5 rows × 23 columns</p>\n",
       "</div>"
      ],
      "text/plain": [
       "                        _id  RN_INDI BTH_YYYY  DTH_YYYYMM     COD1     COD2  \\\n",
       "0  64e6cbf07574768bae8e9ed1   294364   1921LE    200707.0  T08-T14  W00-W19   \n",
       "1  64e6cbf07574768bae8e9ed2   294364   1921LE    200707.0  T08-T14  W00-W19   \n",
       "2  64e6cbf07574768bae8e9ed3   294364   1921LE    200707.0  T08-T14  W00-W19   \n",
       "3  64e6cbf07574768bae8e9ed4   294364   1921LE    200707.0  T08-T14  W00-W19   \n",
       "4  64e6cbf07574768bae8e9ed5   294364   1921LE    200707.0  T08-T14  W00-W19   \n",
       "\n",
       "          RN_KEY  RN_INST  MDCARE_STRT_DT  FORM_CD  ...  OPRTN_YN  \\\n",
       "0  2002080298703    26452        20020830        3  ...         0   \n",
       "1  2002090466395    63715        20020910        3  ...         0   \n",
       "2  2002091053122    63715        20020909        3  ...         0   \n",
       "3  2002020488631    23506        20020208        3  ...         0   \n",
       "4  2002060822342    23506        20020628        3  ...         0   \n",
       "\n",
       "  MDCARE_DD_CNT VSHSP_DD_CNT  TOT_PRSC_DD_CNT  MCARE_RSLT_TYPE  EDC_ADD_RT  \\\n",
       "0             1            1                3              5.0        0.15   \n",
       "1             1            1                2              5.0        0.15   \n",
       "2             3            3                3              5.0        0.15   \n",
       "3             1            1                3              5.0        0.15   \n",
       "4             1            1                0              5.0        0.15   \n",
       "\n",
       "   ED_RC_TOT_AMT  EDC_SBA  EDC_INSUR_BRDN_AMT  STD_YYYY  \n",
       "0          10590     3000                7590      2002  \n",
       "1          16520     4950               11570      2002  \n",
       "2          27620     9000               18620      2002  \n",
       "3          12920     3000                9920      2002  \n",
       "4          14230     3000               11230      2002  \n",
       "\n",
       "[5 rows x 23 columns]"
      ]
     },
     "execution_count": 29,
     "metadata": {},
     "output_type": "execute_result"
    }
   ],
   "source": [
    "df_BND_M20 = pd.DataFrame(list_BND_M20)\n",
    "df_BND_M20[:5]"
   ]
  },
  {
   "cell_type": "code",
   "execution_count": 31,
   "id": "4651fc33-2139-48a3-ac5f-ae099b06ba25",
   "metadata": {
    "tags": []
   },
   "outputs": [
    {
     "data": {
      "text/plain": [
       "J209     8244\n",
       "I10      4629\n",
       "I109     3275\n",
       "F_       3203\n",
       "N_       3177\n",
       "         ... \n",
       "H700        1\n",
       "E058        1\n",
       "M5397       1\n",
       "T18         1\n",
       "P289        1\n",
       "Name: SICK_SYM1, Length: 3414, dtype: int64"
      ]
     },
     "execution_count": 31,
     "metadata": {},
     "output_type": "execute_result"
    }
   ],
   "source": [
    "df_BND_M20['SICK_SYM1'].value_counts()"
   ]
  },
  {
   "cell_type": "code",
   "execution_count": 39,
   "id": "114cf20f-900b-4f83-8137-724eb7170c03",
   "metadata": {
    "tags": []
   },
   "outputs": [
    {
     "data": {
      "text/plain": [
       "(2, 4, 'J20', 'T18')"
      ]
     },
     "execution_count": 39,
     "metadata": {},
     "output_type": "execute_result"
    }
   ],
   "source": [
    "len('F_') , len('J209') ,'J209'[:3], str('T18')[:3]"
   ]
  },
  {
   "cell_type": "code",
   "execution_count": 37,
   "id": "83f72a2a-d496-4986-a831-66cfd87d19ec",
   "metadata": {
    "tags": []
   },
   "outputs": [],
   "source": [
    "def convertSICK_SYM1(sick_sym) :\n",
    "    if len (sick_sym) < 3:\n",
    "        return None\n",
    "    else :\n",
    "        return sick_sym[:3]"
   ]
  },
  {
   "cell_type": "code",
   "execution_count": 40,
   "id": "13c6d6fc-1a6a-4d10-9562-f96790e758d1",
   "metadata": {
    "tags": []
   },
   "outputs": [
    {
     "data": {
      "text/plain": [
       "('J20', None)"
      ]
     },
     "execution_count": 40,
     "metadata": {},
     "output_type": "execute_result"
    }
   ],
   "source": [
    "convertSICK_SYM1('J209'),convertSICK_SYM1('F_')"
   ]
  },
  {
   "cell_type": "code",
   "execution_count": 42,
   "id": "65e3cdf2-3112-4c40-8e45-e6ed427bbb73",
   "metadata": {
    "tags": []
   },
   "outputs": [],
   "source": [
    "df_BND_M20['SICK_SYM_3'] = df_BND_M20['SICK_SYM1'].apply(convertSICK_SYM1)"
   ]
  },
  {
   "cell_type": "code",
   "execution_count": 44,
   "id": "af1860e3-27a5-45a4-80c9-c278c1fdf5a3",
   "metadata": {
    "tags": []
   },
   "outputs": [
    {
     "data": {
      "text/plain": [
       "J20    8917\n",
       "I10    8427\n",
       "J03    4187\n",
       "M54    3904\n",
       "J06    3460\n",
       "       ... \n",
       "G97       1\n",
       "K01       1\n",
       "S28       1\n",
       "I72       1\n",
       "P28       1\n",
       "Name: SICK_SYM_3, Length: 747, dtype: int64"
      ]
     },
     "execution_count": 44,
     "metadata": {},
     "output_type": "execute_result"
    }
   ],
   "source": [
    "df_BND_M20['SICK_SYM_3'].value_counts()"
   ]
  },
  {
   "cell_type": "code",
   "execution_count": 46,
   "id": "966c66f6-9ee0-4b48-b43c-b509d5694a16",
   "metadata": {
    "tags": []
   },
   "outputs": [
    {
     "data": {
      "text/plain": [
       "_id                   0\n",
       "RN_INDI               0\n",
       "BTH_YYYY              0\n",
       "DTH_YYYYMM            0\n",
       "COD1                  0\n",
       "COD2                  0\n",
       "RN_KEY                0\n",
       "RN_INST               0\n",
       "MDCARE_STRT_DT        0\n",
       "FORM_CD               0\n",
       "MCARE_SUBJ_CD         0\n",
       "SICK_SYM1             0\n",
       "OFIJ_TYPE             0\n",
       "OPRTN_YN              0\n",
       "MDCARE_DD_CNT         0\n",
       "VSHSP_DD_CNT          0\n",
       "TOT_PRSC_DD_CNT       0\n",
       "MCARE_RSLT_TYPE       0\n",
       "EDC_ADD_RT            0\n",
       "ED_RC_TOT_AMT         0\n",
       "EDC_SBA               0\n",
       "EDC_INSUR_BRDN_AMT    0\n",
       "STD_YYYY              0\n",
       "SICK_SYM_3            0\n",
       "dtype: int64"
      ]
     },
     "execution_count": 46,
     "metadata": {},
     "output_type": "execute_result"
    }
   ],
   "source": [
    "df_BND_M20_dropna = df_BND_M20.dropna()\n",
    "df_BND_M20_dropna.isnull().sum()"
   ]
  },
  {
   "cell_type": "code",
   "execution_count": 47,
   "id": "d22bede6-35df-4e9a-95b6-1363bc025580",
   "metadata": {
    "tags": []
   },
   "outputs": [
    {
     "data": {
      "text/html": [
       "<div>\n",
       "<style scoped>\n",
       "    .dataframe tbody tr th:only-of-type {\n",
       "        vertical-align: middle;\n",
       "    }\n",
       "\n",
       "    .dataframe tbody tr th {\n",
       "        vertical-align: top;\n",
       "    }\n",
       "\n",
       "    .dataframe thead th {\n",
       "        text-align: right;\n",
       "    }\n",
       "</style>\n",
       "<table border=\"1\" class=\"dataframe\">\n",
       "  <thead>\n",
       "    <tr style=\"text-align: right;\">\n",
       "      <th></th>\n",
       "      <th>_id</th>\n",
       "      <th>RN_INDI</th>\n",
       "      <th>BTH_YYYY</th>\n",
       "      <th>DTH_YYYYMM</th>\n",
       "      <th>COD1</th>\n",
       "      <th>COD2</th>\n",
       "      <th>RN_KEY</th>\n",
       "      <th>RN_INST</th>\n",
       "      <th>MDCARE_STRT_DT</th>\n",
       "      <th>FORM_CD</th>\n",
       "      <th>...</th>\n",
       "      <th>MDCARE_DD_CNT</th>\n",
       "      <th>VSHSP_DD_CNT</th>\n",
       "      <th>TOT_PRSC_DD_CNT</th>\n",
       "      <th>MCARE_RSLT_TYPE</th>\n",
       "      <th>EDC_ADD_RT</th>\n",
       "      <th>ED_RC_TOT_AMT</th>\n",
       "      <th>EDC_SBA</th>\n",
       "      <th>EDC_INSUR_BRDN_AMT</th>\n",
       "      <th>STD_YYYY</th>\n",
       "      <th>SICK_SYM_3</th>\n",
       "    </tr>\n",
       "  </thead>\n",
       "  <tbody>\n",
       "    <tr>\n",
       "      <th>0</th>\n",
       "      <td>64e6cbf07574768bae8e9ed1</td>\n",
       "      <td>294364</td>\n",
       "      <td>1921LE</td>\n",
       "      <td>200707.0</td>\n",
       "      <td>T08-T14</td>\n",
       "      <td>W00-W19</td>\n",
       "      <td>2002080298703</td>\n",
       "      <td>26452</td>\n",
       "      <td>20020830</td>\n",
       "      <td>3</td>\n",
       "      <td>...</td>\n",
       "      <td>1</td>\n",
       "      <td>1</td>\n",
       "      <td>3</td>\n",
       "      <td>5.0</td>\n",
       "      <td>0.15</td>\n",
       "      <td>10590</td>\n",
       "      <td>3000</td>\n",
       "      <td>7590</td>\n",
       "      <td>2002</td>\n",
       "      <td>L02</td>\n",
       "    </tr>\n",
       "    <tr>\n",
       "      <th>3</th>\n",
       "      <td>64e6cbf07574768bae8e9ed4</td>\n",
       "      <td>294364</td>\n",
       "      <td>1921LE</td>\n",
       "      <td>200707.0</td>\n",
       "      <td>T08-T14</td>\n",
       "      <td>W00-W19</td>\n",
       "      <td>2002020488631</td>\n",
       "      <td>23506</td>\n",
       "      <td>20020208</td>\n",
       "      <td>3</td>\n",
       "      <td>...</td>\n",
       "      <td>1</td>\n",
       "      <td>1</td>\n",
       "      <td>3</td>\n",
       "      <td>5.0</td>\n",
       "      <td>0.15</td>\n",
       "      <td>12920</td>\n",
       "      <td>3000</td>\n",
       "      <td>9920</td>\n",
       "      <td>2002</td>\n",
       "      <td>K29</td>\n",
       "    </tr>\n",
       "  </tbody>\n",
       "</table>\n",
       "<p>2 rows × 24 columns</p>\n",
       "</div>"
      ],
      "text/plain": [
       "                        _id  RN_INDI BTH_YYYY  DTH_YYYYMM     COD1     COD2  \\\n",
       "0  64e6cbf07574768bae8e9ed1   294364   1921LE    200707.0  T08-T14  W00-W19   \n",
       "3  64e6cbf07574768bae8e9ed4   294364   1921LE    200707.0  T08-T14  W00-W19   \n",
       "\n",
       "          RN_KEY  RN_INST  MDCARE_STRT_DT  FORM_CD  ...  MDCARE_DD_CNT  \\\n",
       "0  2002080298703    26452        20020830        3  ...              1   \n",
       "3  2002020488631    23506        20020208        3  ...              1   \n",
       "\n",
       "  VSHSP_DD_CNT TOT_PRSC_DD_CNT  MCARE_RSLT_TYPE  EDC_ADD_RT  ED_RC_TOT_AMT  \\\n",
       "0            1               3              5.0        0.15          10590   \n",
       "3            1               3              5.0        0.15          12920   \n",
       "\n",
       "   EDC_SBA  EDC_INSUR_BRDN_AMT  STD_YYYY  SICK_SYM_3  \n",
       "0     3000                7590      2002         L02  \n",
       "3     3000                9920      2002         K29  \n",
       "\n",
       "[2 rows x 24 columns]"
      ]
     },
     "execution_count": 47,
     "metadata": {},
     "output_type": "execute_result"
    }
   ],
   "source": [
    "df_BND_M20_dropna[:2]"
   ]
  },
  {
   "cell_type": "code",
   "execution_count": 62,
   "id": "0e40c0fa-af5f-4d68-91f9-9b329fe5358d",
   "metadata": {
    "tags": []
   },
   "outputs": [],
   "source": [
    "target_list = df_BND_M20_dropna['SICK_SYM_3'].value_counts().index.to_list()"
   ]
  },
  {
   "cell_type": "code",
   "execution_count": 64,
   "id": "2e86df1c-d408-44de-b4bc-1c917d8caae3",
   "metadata": {
    "tags": []
   },
   "outputs": [
    {
     "data": {
      "text/plain": [
       "(83, 6)"
      ]
     },
     "execution_count": 64,
     "metadata": {},
     "output_type": "execute_result"
    }
   ],
   "source": [
    "target_list.index('L02'), target_list.index('J03')"
   ]
  },
  {
   "cell_type": "code",
   "execution_count": 70,
   "id": "e05d87b1-2c0d-43d7-9218-d2182b2073a5",
   "metadata": {
    "tags": []
   },
   "outputs": [],
   "source": [
    "def applyIndexNumber(sick_sym_3):\n",
    "    indexNumber = target_list.index(sick_sym_3)\n",
    "    return indexNumber"
   ]
  },
  {
   "cell_type": "code",
   "execution_count": 71,
   "id": "75e5521e-6613-4a21-bf42-b53b00d39cd1",
   "metadata": {
    "tags": []
   },
   "outputs": [
    {
     "ename": "KeyError",
     "evalue": "'SICK_SYM1_3'",
     "output_type": "error",
     "traceback": [
      "\u001b[1;31m---------------------------------------------------------------------------\u001b[0m",
      "\u001b[1;31mKeyError\u001b[0m                                  Traceback (most recent call last)",
      "File \u001b[1;32m~\\anaconda3\\Lib\\site-packages\\pandas\\core\\indexes\\base.py:3802\u001b[0m, in \u001b[0;36mIndex.get_loc\u001b[1;34m(self, key, method, tolerance)\u001b[0m\n\u001b[0;32m   3801\u001b[0m \u001b[38;5;28;01mtry\u001b[39;00m:\n\u001b[1;32m-> 3802\u001b[0m     \u001b[38;5;28;01mreturn\u001b[39;00m \u001b[38;5;28mself\u001b[39m\u001b[38;5;241m.\u001b[39m_engine\u001b[38;5;241m.\u001b[39mget_loc(casted_key)\n\u001b[0;32m   3803\u001b[0m \u001b[38;5;28;01mexcept\u001b[39;00m \u001b[38;5;167;01mKeyError\u001b[39;00m \u001b[38;5;28;01mas\u001b[39;00m err:\n",
      "File \u001b[1;32m~\\anaconda3\\Lib\\site-packages\\pandas\\_libs\\index.pyx:138\u001b[0m, in \u001b[0;36mpandas._libs.index.IndexEngine.get_loc\u001b[1;34m()\u001b[0m\n",
      "File \u001b[1;32m~\\anaconda3\\Lib\\site-packages\\pandas\\_libs\\index.pyx:165\u001b[0m, in \u001b[0;36mpandas._libs.index.IndexEngine.get_loc\u001b[1;34m()\u001b[0m\n",
      "File \u001b[1;32mpandas\\_libs\\hashtable_class_helper.pxi:5745\u001b[0m, in \u001b[0;36mpandas._libs.hashtable.PyObjectHashTable.get_item\u001b[1;34m()\u001b[0m\n",
      "File \u001b[1;32mpandas\\_libs\\hashtable_class_helper.pxi:5753\u001b[0m, in \u001b[0;36mpandas._libs.hashtable.PyObjectHashTable.get_item\u001b[1;34m()\u001b[0m\n",
      "\u001b[1;31mKeyError\u001b[0m: 'SICK_SYM1_3'",
      "\nThe above exception was the direct cause of the following exception:\n",
      "\u001b[1;31mKeyError\u001b[0m                                  Traceback (most recent call last)",
      "Cell \u001b[1;32mIn[71], line 1\u001b[0m\n\u001b[1;32m----> 1\u001b[0m df_BND_M20_dropna[\u001b[38;5;124m'\u001b[39m\u001b[38;5;124mSICK_SYM1_3_target\u001b[39m\u001b[38;5;124m'\u001b[39m] \u001b[38;5;241m=\u001b[39m df_BND_M20_dropna[\u001b[38;5;124m'\u001b[39m\u001b[38;5;124mSICK_SYM1_3\u001b[39m\u001b[38;5;124m'\u001b[39m]\u001b[38;5;241m.\u001b[39mapply(applyIndexNumber)\n\u001b[0;32m      2\u001b[0m df_BND_M20_dropna[:\u001b[38;5;241m2\u001b[39m]\n",
      "File \u001b[1;32m~\\anaconda3\\Lib\\site-packages\\pandas\\core\\frame.py:3807\u001b[0m, in \u001b[0;36mDataFrame.__getitem__\u001b[1;34m(self, key)\u001b[0m\n\u001b[0;32m   3805\u001b[0m \u001b[38;5;28;01mif\u001b[39;00m \u001b[38;5;28mself\u001b[39m\u001b[38;5;241m.\u001b[39mcolumns\u001b[38;5;241m.\u001b[39mnlevels \u001b[38;5;241m>\u001b[39m \u001b[38;5;241m1\u001b[39m:\n\u001b[0;32m   3806\u001b[0m     \u001b[38;5;28;01mreturn\u001b[39;00m \u001b[38;5;28mself\u001b[39m\u001b[38;5;241m.\u001b[39m_getitem_multilevel(key)\n\u001b[1;32m-> 3807\u001b[0m indexer \u001b[38;5;241m=\u001b[39m \u001b[38;5;28mself\u001b[39m\u001b[38;5;241m.\u001b[39mcolumns\u001b[38;5;241m.\u001b[39mget_loc(key)\n\u001b[0;32m   3808\u001b[0m \u001b[38;5;28;01mif\u001b[39;00m is_integer(indexer):\n\u001b[0;32m   3809\u001b[0m     indexer \u001b[38;5;241m=\u001b[39m [indexer]\n",
      "File \u001b[1;32m~\\anaconda3\\Lib\\site-packages\\pandas\\core\\indexes\\base.py:3804\u001b[0m, in \u001b[0;36mIndex.get_loc\u001b[1;34m(self, key, method, tolerance)\u001b[0m\n\u001b[0;32m   3802\u001b[0m     \u001b[38;5;28;01mreturn\u001b[39;00m \u001b[38;5;28mself\u001b[39m\u001b[38;5;241m.\u001b[39m_engine\u001b[38;5;241m.\u001b[39mget_loc(casted_key)\n\u001b[0;32m   3803\u001b[0m \u001b[38;5;28;01mexcept\u001b[39;00m \u001b[38;5;167;01mKeyError\u001b[39;00m \u001b[38;5;28;01mas\u001b[39;00m err:\n\u001b[1;32m-> 3804\u001b[0m     \u001b[38;5;28;01mraise\u001b[39;00m \u001b[38;5;167;01mKeyError\u001b[39;00m(key) \u001b[38;5;28;01mfrom\u001b[39;00m \u001b[38;5;21;01merr\u001b[39;00m\n\u001b[0;32m   3805\u001b[0m \u001b[38;5;28;01mexcept\u001b[39;00m \u001b[38;5;167;01mTypeError\u001b[39;00m:\n\u001b[0;32m   3806\u001b[0m     \u001b[38;5;66;03m# If we have a listlike key, _check_indexing_error will raise\u001b[39;00m\n\u001b[0;32m   3807\u001b[0m     \u001b[38;5;66;03m#  InvalidIndexError. Otherwise we fall through and re-raise\u001b[39;00m\n\u001b[0;32m   3808\u001b[0m     \u001b[38;5;66;03m#  the TypeError.\u001b[39;00m\n\u001b[0;32m   3809\u001b[0m     \u001b[38;5;28mself\u001b[39m\u001b[38;5;241m.\u001b[39m_check_indexing_error(key)\n",
      "\u001b[1;31mKeyError\u001b[0m: 'SICK_SYM1_3'"
     ]
    }
   ],
   "source": [
    "df_BND_M20_dropna['SICK_SYM1_3_target'] = df_BND_M20_dropna['SICK_SYM1_3'].apply(applyIndexNumber)\n",
    "df_BND_M20_dropna[:2]"
   ]
  },
  {
   "cell_type": "code",
   "execution_count": null,
   "id": "c7603054-53d3-4d51-87f9-bec5479ea62c",
   "metadata": {},
   "outputs": [],
   "source": []
  }
 ],
 "metadata": {
  "kernelspec": {
   "display_name": "Python 3 (ipykernel)",
   "language": "python",
   "name": "python3"
  },
  "language_info": {
   "codemirror_mode": {
    "name": "ipython",
    "version": 3
   },
   "file_extension": ".py",
   "mimetype": "text/x-python",
   "name": "python",
   "nbconvert_exporter": "python",
   "pygments_lexer": "ipython3",
   "version": "3.11.3"
  }
 },
 "nbformat": 4,
 "nbformat_minor": 5
}
