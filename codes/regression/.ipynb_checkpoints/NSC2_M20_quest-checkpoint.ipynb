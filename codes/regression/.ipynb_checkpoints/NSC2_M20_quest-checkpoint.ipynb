{
 "cells": [
  {
   "cell_type": "code",
   "execution_count": 1,
   "id": "21fd6afe-42dd-454c-84b1-817587b3135e",
   "metadata": {
    "tags": []
   },
   "outputs": [],
   "source": [
    "import pandas as pd"
   ]
  },
  {
   "cell_type": "code",
   "execution_count": 5,
   "id": "082eee2e-a092-4622-8d79-7b94eabc88c0",
   "metadata": {
    "tags": []
   },
   "outputs": [
    {
     "data": {
      "text/html": [
       "<div>\n",
       "<style scoped>\n",
       "    .dataframe tbody tr th:only-of-type {\n",
       "        vertical-align: middle;\n",
       "    }\n",
       "\n",
       "    .dataframe tbody tr th {\n",
       "        vertical-align: top;\n",
       "    }\n",
       "\n",
       "    .dataframe thead th {\n",
       "        text-align: right;\n",
       "    }\n",
       "</style>\n",
       "<table border=\"1\" class=\"dataframe\">\n",
       "  <thead>\n",
       "    <tr style=\"text-align: right;\">\n",
       "      <th></th>\n",
       "      <th>Unnamed: 0</th>\n",
       "      <th>EDC_SBA</th>\n",
       "      <th>MDCARE_STRT_DT</th>\n",
       "      <th>TOT_PRSC_DD_CNT</th>\n",
       "    </tr>\n",
       "  </thead>\n",
       "  <tbody>\n",
       "    <tr>\n",
       "      <th>0</th>\n",
       "      <td>0</td>\n",
       "      <td>3000</td>\n",
       "      <td>20020422</td>\n",
       "      <td>60</td>\n",
       "    </tr>\n",
       "    <tr>\n",
       "      <th>1</th>\n",
       "      <td>1</td>\n",
       "      <td>3000</td>\n",
       "      <td>20020716</td>\n",
       "      <td>30</td>\n",
       "    </tr>\n",
       "  </tbody>\n",
       "</table>\n",
       "</div>"
      ],
      "text/plain": [
       "   Unnamed: 0  EDC_SBA  MDCARE_STRT_DT  TOT_PRSC_DD_CNT\n",
       "0           0     3000        20020422               60\n",
       "1           1     3000        20020716               30"
      ]
     },
     "execution_count": 5,
     "metadata": {},
     "output_type": "execute_result"
    }
   ],
   "source": [
    "df_M20 = pd.read_csv('../../datasets/NSC2_M20.CSV')\n",
    "df_M20[:2]"
   ]
  },
  {
   "cell_type": "markdown",
   "id": "9ddbf474-e67c-4afc-8ba7-8c87a675d8d8",
   "metadata": {
    "tags": []
   },
   "source": [
    "#### 목표변수 - 연속형 \n",
    "- 목표변수 : EDC_SBA\n",
    "- 설명변수 : MDCARE_STRT_DT ,TOT_PRSC_DD_CNT"
   ]
  },
  {
   "cell_type": "code",
   "execution_count": 7,
   "id": "68dde317-126a-4167-9f8a-aa67ca69ad6e",
   "metadata": {
    "tags": []
   },
   "outputs": [
    {
     "name": "stdout",
     "output_type": "stream",
     "text": [
      "<class 'pandas.core.frame.DataFrame'>\n",
      "RangeIndex: 4629 entries, 0 to 4628\n",
      "Data columns (total 4 columns):\n",
      " #   Column           Non-Null Count  Dtype\n",
      "---  ------           --------------  -----\n",
      " 0   Unnamed: 0       4629 non-null   int64\n",
      " 1   EDC_SBA          4629 non-null   int64\n",
      " 2   MDCARE_STRT_DT   4629 non-null   int64\n",
      " 3   TOT_PRSC_DD_CNT  4629 non-null   int64\n",
      "dtypes: int64(4)\n",
      "memory usage: 144.8 KB\n"
     ]
    }
   ],
   "source": [
    "df_M20.info()"
   ]
  },
  {
   "cell_type": "code",
   "execution_count": 8,
   "id": "c5c932ca-649a-4f9c-8459-ef41a4499c6a",
   "metadata": {
    "tags": []
   },
   "outputs": [
    {
     "data": {
      "text/plain": [
       "Index(['Unnamed: 0', 'EDC_SBA', 'MDCARE_STRT_DT', 'TOT_PRSC_DD_CNT'], dtype='object')"
      ]
     },
     "execution_count": 8,
     "metadata": {},
     "output_type": "execute_result"
    }
   ],
   "source": [
    "df_M20.columns"
   ]
  },
  {
   "cell_type": "markdown",
   "id": "d149a296-1bd1-4473-b496-666c6651b1a8",
   "metadata": {},
   "source": [
    "#### 1. PreProcessing"
   ]
  },
  {
   "cell_type": "markdown",
   "id": "3353ee9c-0618-4a28-8445-3549e6ea734b",
   "metadata": {},
   "source": [
    "##### 목표변수와 설명변수 추출"
   ]
  },
  {
   "cell_type": "code",
   "execution_count": 9,
   "id": "88d9df72-b374-4d46-bbdf-7b6d9dff8b1b",
   "metadata": {
    "tags": []
   },
   "outputs": [
    {
     "data": {
      "text/html": [
       "<div>\n",
       "<style scoped>\n",
       "    .dataframe tbody tr th:only-of-type {\n",
       "        vertical-align: middle;\n",
       "    }\n",
       "\n",
       "    .dataframe tbody tr th {\n",
       "        vertical-align: top;\n",
       "    }\n",
       "\n",
       "    .dataframe thead th {\n",
       "        text-align: right;\n",
       "    }\n",
       "</style>\n",
       "<table border=\"1\" class=\"dataframe\">\n",
       "  <thead>\n",
       "    <tr style=\"text-align: right;\">\n",
       "      <th></th>\n",
       "      <th>EDC_SBA</th>\n",
       "      <th>MDCARE_STRT_DT</th>\n",
       "      <th>TOT_PRSC_DD_CNT</th>\n",
       "    </tr>\n",
       "  </thead>\n",
       "  <tbody>\n",
       "    <tr>\n",
       "      <th>0</th>\n",
       "      <td>3000</td>\n",
       "      <td>20020422</td>\n",
       "      <td>60</td>\n",
       "    </tr>\n",
       "    <tr>\n",
       "      <th>1</th>\n",
       "      <td>3000</td>\n",
       "      <td>20020716</td>\n",
       "      <td>30</td>\n",
       "    </tr>\n",
       "  </tbody>\n",
       "</table>\n",
       "</div>"
      ],
      "text/plain": [
       "   EDC_SBA  MDCARE_STRT_DT  TOT_PRSC_DD_CNT\n",
       "0     3000        20020422               60\n",
       "1     3000        20020716               30"
      ]
     },
     "execution_count": 9,
     "metadata": {},
     "output_type": "execute_result"
    }
   ],
   "source": [
    "df_M20_extract = df_M20[['EDC_SBA', 'MDCARE_STRT_DT', 'TOT_PRSC_DD_CNT']]\n",
    "df_M20_extract[:2]"
   ]
  },
  {
   "cell_type": "markdown",
   "id": "2052fc03-3796-4cca-a593-ec194674972a",
   "metadata": {},
   "source": [
    "#### 1-1. 결측치나 이상치 확인 "
   ]
  },
  {
   "cell_type": "code",
   "execution_count": 10,
   "id": "199def9b-e836-486e-a5e0-39bf0b2d23a2",
   "metadata": {
    "tags": []
   },
   "outputs": [
    {
     "data": {
      "text/plain": [
       "EDC_SBA            0\n",
       "MDCARE_STRT_DT     0\n",
       "TOT_PRSC_DD_CNT    0\n",
       "dtype: int64"
      ]
     },
     "execution_count": 10,
     "metadata": {},
     "output_type": "execute_result"
    }
   ],
   "source": [
    "df_M20_extract.isnull().sum()"
   ]
  },
  {
   "cell_type": "code",
   "execution_count": 11,
   "id": "34bf469e-2e91-42b6-a30f-44dda94c58ff",
   "metadata": {
    "tags": []
   },
   "outputs": [],
   "source": [
    "# 목표변수와 설명변수 추출\n",
    "# df_BCD.drop(columns=['id', 'diagnosis', 'Unnamed: 32']).info()\n",
    "df_M20_extract = df_M20.drop(columns=['Unnamed: 0'])"
   ]
  },
  {
   "cell_type": "code",
   "execution_count": 12,
   "id": "a3555562-2bc0-4c2c-a5a7-0c19698d92f7",
   "metadata": {
    "tags": []
   },
   "outputs": [
    {
     "data": {
      "text/plain": [
       "EDC_SBA            0\n",
       "MDCARE_STRT_DT     0\n",
       "TOT_PRSC_DD_CNT    0\n",
       "dtype: int64"
      ]
     },
     "execution_count": 12,
     "metadata": {},
     "output_type": "execute_result"
    }
   ],
   "source": [
    "df_M20_extract.isnull().sum()"
   ]
  },
  {
   "cell_type": "markdown",
   "id": "0ac69032-6455-4377-8e8a-50e2c8336dbc",
   "metadata": {},
   "source": [
    "###### Strucured data : X, Y \n",
    "- 목표변수, Y, Target\n",
    "- 설명변수, X, labels"
   ]
  },
  {
   "cell_type": "code",
   "execution_count": 13,
   "id": "a190ee55-7019-40a6-b583-98902dec4422",
   "metadata": {
    "tags": []
   },
   "outputs": [
    {
     "data": {
      "text/plain": [
       "((4629,), (4629, 2))"
      ]
     },
     "execution_count": 13,
     "metadata": {},
     "output_type": "execute_result"
    }
   ],
   "source": [
    "target = df_M20_extract['EDC_SBA'] # 시리즈로 왜? 1개니까 \n",
    "labels = df_M20_extract[['MDCARE_STRT_DT', 'TOT_PRSC_DD_CNT']] # 데이터프레임 왜? 2개니까 \n",
    "target.shape, labels.shape"
   ]
  },
  {
   "cell_type": "markdown",
   "id": "27c6b47a-20b6-4b28-8146-39189988291e",
   "metadata": {},
   "source": [
    "#### 3. Learning Algorithm (알고리즘 모델 학습) = 준비된 데이터 해당부분을 학습시키기. "
   ]
  },
  {
   "cell_type": "markdown",
   "id": "96fcbd59-813a-4974-b852-6461343b707a",
   "metadata": {
    "tags": []
   },
   "source": [
    "##### 모델 학습\n",
    "- target datatype 종속 "
   ]
  },
  {
   "cell_type": "code",
   "execution_count": 15,
   "id": "5723f180-3b8c-49f4-bc90-3ed8f491862c",
   "metadata": {
    "tags": []
   },
   "outputs": [],
   "source": [
    "from sklearn.linear_model import LinearRegression"
   ]
  },
  {
   "cell_type": "code",
   "execution_count": 16,
   "id": "a803a062-fd85-4729-9f96-dde1d2161728",
   "metadata": {
    "tags": []
   },
   "outputs": [
    {
     "data": {
      "text/html": [
       "<style>#sk-container-id-1 {color: black;background-color: white;}#sk-container-id-1 pre{padding: 0;}#sk-container-id-1 div.sk-toggleable {background-color: white;}#sk-container-id-1 label.sk-toggleable__label {cursor: pointer;display: block;width: 100%;margin-bottom: 0;padding: 0.3em;box-sizing: border-box;text-align: center;}#sk-container-id-1 label.sk-toggleable__label-arrow:before {content: \"▸\";float: left;margin-right: 0.25em;color: #696969;}#sk-container-id-1 label.sk-toggleable__label-arrow:hover:before {color: black;}#sk-container-id-1 div.sk-estimator:hover label.sk-toggleable__label-arrow:before {color: black;}#sk-container-id-1 div.sk-toggleable__content {max-height: 0;max-width: 0;overflow: hidden;text-align: left;background-color: #f0f8ff;}#sk-container-id-1 div.sk-toggleable__content pre {margin: 0.2em;color: black;border-radius: 0.25em;background-color: #f0f8ff;}#sk-container-id-1 input.sk-toggleable__control:checked~div.sk-toggleable__content {max-height: 200px;max-width: 100%;overflow: auto;}#sk-container-id-1 input.sk-toggleable__control:checked~label.sk-toggleable__label-arrow:before {content: \"▾\";}#sk-container-id-1 div.sk-estimator input.sk-toggleable__control:checked~label.sk-toggleable__label {background-color: #d4ebff;}#sk-container-id-1 div.sk-label input.sk-toggleable__control:checked~label.sk-toggleable__label {background-color: #d4ebff;}#sk-container-id-1 input.sk-hidden--visually {border: 0;clip: rect(1px 1px 1px 1px);clip: rect(1px, 1px, 1px, 1px);height: 1px;margin: -1px;overflow: hidden;padding: 0;position: absolute;width: 1px;}#sk-container-id-1 div.sk-estimator {font-family: monospace;background-color: #f0f8ff;border: 1px dotted black;border-radius: 0.25em;box-sizing: border-box;margin-bottom: 0.5em;}#sk-container-id-1 div.sk-estimator:hover {background-color: #d4ebff;}#sk-container-id-1 div.sk-parallel-item::after {content: \"\";width: 100%;border-bottom: 1px solid gray;flex-grow: 1;}#sk-container-id-1 div.sk-label:hover label.sk-toggleable__label {background-color: #d4ebff;}#sk-container-id-1 div.sk-serial::before {content: \"\";position: absolute;border-left: 1px solid gray;box-sizing: border-box;top: 0;bottom: 0;left: 50%;z-index: 0;}#sk-container-id-1 div.sk-serial {display: flex;flex-direction: column;align-items: center;background-color: white;padding-right: 0.2em;padding-left: 0.2em;position: relative;}#sk-container-id-1 div.sk-item {position: relative;z-index: 1;}#sk-container-id-1 div.sk-parallel {display: flex;align-items: stretch;justify-content: center;background-color: white;position: relative;}#sk-container-id-1 div.sk-item::before, #sk-container-id-1 div.sk-parallel-item::before {content: \"\";position: absolute;border-left: 1px solid gray;box-sizing: border-box;top: 0;bottom: 0;left: 50%;z-index: -1;}#sk-container-id-1 div.sk-parallel-item {display: flex;flex-direction: column;z-index: 1;position: relative;background-color: white;}#sk-container-id-1 div.sk-parallel-item:first-child::after {align-self: flex-end;width: 50%;}#sk-container-id-1 div.sk-parallel-item:last-child::after {align-self: flex-start;width: 50%;}#sk-container-id-1 div.sk-parallel-item:only-child::after {width: 0;}#sk-container-id-1 div.sk-dashed-wrapped {border: 1px dashed gray;margin: 0 0.4em 0.5em 0.4em;box-sizing: border-box;padding-bottom: 0.4em;background-color: white;}#sk-container-id-1 div.sk-label label {font-family: monospace;font-weight: bold;display: inline-block;line-height: 1.2em;}#sk-container-id-1 div.sk-label-container {text-align: center;}#sk-container-id-1 div.sk-container {/* jupyter's `normalize.less` sets `[hidden] { display: none; }` but bootstrap.min.css set `[hidden] { display: none !important; }` so we also need the `!important` here to be able to override the default hidden behavior on the sphinx rendered scikit-learn.org. See: https://github.com/scikit-learn/scikit-learn/issues/21755 */display: inline-block !important;position: relative;}#sk-container-id-1 div.sk-text-repr-fallback {display: none;}</style><div id=\"sk-container-id-1\" class=\"sk-top-container\"><div class=\"sk-text-repr-fallback\"><pre>LinearRegression()</pre><b>In a Jupyter environment, please rerun this cell to show the HTML representation or trust the notebook. <br />On GitHub, the HTML representation is unable to render, please try loading this page with nbviewer.org.</b></div><div class=\"sk-container\" hidden><div class=\"sk-item\"><div class=\"sk-estimator sk-toggleable\"><input class=\"sk-toggleable__control sk-hidden--visually\" id=\"sk-estimator-id-1\" type=\"checkbox\" checked><label for=\"sk-estimator-id-1\" class=\"sk-toggleable__label sk-toggleable__label-arrow\">LinearRegression</label><div class=\"sk-toggleable__content\"><pre>LinearRegression()</pre></div></div></div></div></div>"
      ],
      "text/plain": [
       "LinearRegression()"
      ]
     },
     "execution_count": 16,
     "metadata": {},
     "output_type": "execute_result"
    }
   ],
   "source": [
    "#설명변수가 labes (x축이라 앞에 존재. )\n",
    "model = LinearRegression()\n",
    "model.fit(labels, target)"
   ]
  },
  {
   "cell_type": "markdown",
   "id": "a7aafcaf-d938-4107-a7bb-b7c4518ba8fd",
   "metadata": {},
   "source": [
    "#### 3-1. 모델 학습 시키기 \n",
    "- 앞에 설명변수(labels) , 뒤 목표변수(target)"
   ]
  },
  {
   "cell_type": "markdown",
   "id": "c39a8f61-a594-4451-8214-f06303b11116",
   "metadata": {
    "tags": []
   },
   "source": [
    "#### 4. 평가 (나중에 함) "
   ]
  },
  {
   "cell_type": "code",
   "execution_count": 18,
   "id": "22a318cd-d118-4750-8c45-5c84f5ac6dee",
   "metadata": {
    "tags": []
   },
   "outputs": [
    {
     "data": {
      "text/plain": [
       "4629"
      ]
     },
     "execution_count": 18,
     "metadata": {},
     "output_type": "execute_result"
    }
   ],
   "source": [
    "### 4-1.평가 후 시험을 치르게함\n",
    "target_predict = model.predict(labels)\n",
    "len(target_predict)"
   ]
  },
  {
   "cell_type": "code",
   "execution_count": 19,
   "id": "804f3407-7d5a-4ee1-809d-98ffd7d341da",
   "metadata": {
    "tags": []
   },
   "outputs": [
    {
     "data": {
      "text/plain": [
       "0.0006500840024957766"
      ]
     },
     "execution_count": 19,
     "metadata": {},
     "output_type": "execute_result"
    }
   ],
   "source": [
    "# 낮으면 좋다. 왜?? 모름... \n",
    "from sklearn.metrics import r2_score\n",
    "r2_score(target, target_predict)"
   ]
  },
  {
   "cell_type": "markdown",
   "id": "85fb778f-e66c-4243-a575-9c045bde1422",
   "metadata": {},
   "source": [
    "#### 미래예측 (서비스 개시) "
   ]
  },
  {
   "cell_type": "code",
   "execution_count": 20,
   "id": "123557b1-7a96-4f7f-ba43-dd81a93dda97",
   "metadata": {
    "tags": []
   },
   "outputs": [
    {
     "data": {
      "text/html": [
       "<div>\n",
       "<style scoped>\n",
       "    .dataframe tbody tr th:only-of-type {\n",
       "        vertical-align: middle;\n",
       "    }\n",
       "\n",
       "    .dataframe tbody tr th {\n",
       "        vertical-align: top;\n",
       "    }\n",
       "\n",
       "    .dataframe thead th {\n",
       "        text-align: right;\n",
       "    }\n",
       "</style>\n",
       "<table border=\"1\" class=\"dataframe\">\n",
       "  <thead>\n",
       "    <tr style=\"text-align: right;\">\n",
       "      <th></th>\n",
       "      <th>EDC_SBA</th>\n",
       "      <th>MDCARE_STRT_DT</th>\n",
       "      <th>TOT_PRSC_DD_CNT</th>\n",
       "    </tr>\n",
       "  </thead>\n",
       "  <tbody>\n",
       "    <tr>\n",
       "      <th>50</th>\n",
       "      <td>1500</td>\n",
       "      <td>20020817</td>\n",
       "      <td>60</td>\n",
       "    </tr>\n",
       "    <tr>\n",
       "      <th>51</th>\n",
       "      <td>3000</td>\n",
       "      <td>20020716</td>\n",
       "      <td>30</td>\n",
       "    </tr>\n",
       "    <tr>\n",
       "      <th>52</th>\n",
       "      <td>3000</td>\n",
       "      <td>20020413</td>\n",
       "      <td>30</td>\n",
       "    </tr>\n",
       "    <tr>\n",
       "      <th>53</th>\n",
       "      <td>3000</td>\n",
       "      <td>20020529</td>\n",
       "      <td>10</td>\n",
       "    </tr>\n",
       "    <tr>\n",
       "      <th>54</th>\n",
       "      <td>6000</td>\n",
       "      <td>20020401</td>\n",
       "      <td>40</td>\n",
       "    </tr>\n",
       "  </tbody>\n",
       "</table>\n",
       "</div>"
      ],
      "text/plain": [
       "    EDC_SBA  MDCARE_STRT_DT  TOT_PRSC_DD_CNT\n",
       "50     1500        20020817               60\n",
       "51     3000        20020716               30\n",
       "52     3000        20020413               30\n",
       "53     3000        20020529               10\n",
       "54     6000        20020401               40"
      ]
     },
     "execution_count": 20,
     "metadata": {},
     "output_type": "execute_result"
    }
   ],
   "source": [
    "# 50에서 55개 추출 \n",
    "df_M20_extract[50:55]"
   ]
  },
  {
   "cell_type": "code",
   "execution_count": 21,
   "id": "6e0ee57c-596f-47cd-a1e9-595d3efd2df8",
   "metadata": {
    "tags": []
   },
   "outputs": [],
   "source": [
    "# exture_mean\tperimeter_mean이건 (설명변수) vs radius_mean(목표변수) \n",
    "# 51번에서 20020716\t30 : 외부에서 입력한 설명변수 값들  \n",
    "#label의 모양 [[행, 열]]\n",
    "temp_label = [[20020716, 30]]"
   ]
  },
  {
   "cell_type": "code",
   "execution_count": 23,
   "id": "3b64fd81-bc4d-43e5-b9ed-d5017d19699d",
   "metadata": {
    "tags": []
   },
   "outputs": [
    {
     "name": "stderr",
     "output_type": "stream",
     "text": [
      "C:\\Users\\5-20\\anaconda3\\Lib\\site-packages\\sklearn\\base.py:439: UserWarning: X does not have valid feature names, but LinearRegression was fitted with feature names\n",
      "  warnings.warn(\n"
     ]
    },
    {
     "data": {
      "text/plain": [
       "array([4278.17595831])"
      ]
     },
     "execution_count": 23,
     "metadata": {},
     "output_type": "execute_result"
    }
   ],
   "source": [
    "# 서비스를 하기 위한 예측. \n",
    "# 4278.17595831\n",
    "model.predict(temp_label)"
   ]
  },
  {
   "cell_type": "code",
   "execution_count": null,
   "id": "4961f91c-cefa-4301-83cf-aa81fce14131",
   "metadata": {},
   "outputs": [],
   "source": []
  }
 ],
 "metadata": {
  "kernelspec": {
   "display_name": "Python 3 (ipykernel)",
   "language": "python",
   "name": "python3"
  },
  "language_info": {
   "codemirror_mode": {
    "name": "ipython",
    "version": 3
   },
   "file_extension": ".py",
   "mimetype": "text/x-python",
   "name": "python",
   "nbconvert_exporter": "python",
   "pygments_lexer": "ipython3",
   "version": "3.11.3"
  }
 },
 "nbformat": 4,
 "nbformat_minor": 5
}
